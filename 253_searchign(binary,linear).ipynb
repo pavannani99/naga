{
  "nbformat": 4,
  "nbformat_minor": 0,
  "metadata": {
    "colab": {
      "provenance": [],
      "authorship_tag": "ABX9TyPSdYiadpvrGcp09C5DcBjB",
      "include_colab_link": true
    },
    "kernelspec": {
      "name": "python3",
      "display_name": "Python 3"
    },
    "language_info": {
      "name": "python"
    }
  },
  "cells": [
    {
      "cell_type": "markdown",
      "metadata": {
        "id": "view-in-github",
        "colab_type": "text"
      },
      "source": [
        "<a href=\"https://colab.research.google.com/github/pavannani99/naga/blob/main/253_searchign(binary%2Clinear).ipynb\" target=\"_parent\"><img src=\"https://colab.research.google.com/assets/colab-badge.svg\" alt=\"Open In Colab\"/></a>"
      ]
    },
    {
      "cell_type": "code",
      "source": [
        "#linear search\n",
        "arr1=[1,3,24,5,64,7,53,66,355,6,4334]\n",
        "target=int(input(\"\"))\n",
        "for i in range(len(arr1)):\n",
        "\n",
        "    if arr1[i]==target:\n",
        "        print(i)\n"
      ],
      "metadata": {
        "colab": {
          "base_uri": "https://localhost:8080/"
        },
        "id": "qYW90ke0Foy-",
        "outputId": "bcae808a-f935-475f-865d-495a461c2f36"
      },
      "execution_count": 6,
      "outputs": [
        {
          "output_type": "stream",
          "name": "stdout",
          "text": [
            "6\n",
            "9\n"
          ]
        }
      ]
    },
    {
      "cell_type": "code",
      "source": [
        "#binary search\n",
        "arr1=[1,3,24,5,64,7,53,66,355,6,4334]\n",
        "arr1.sort()\n",
        "target=int(input(\"Enter target value: \"))\n",
        "\n",
        "low = 0\n",
        "high = len(arr1) - 1\n",
        "found = False\n",
        "\n",
        "while low <= high:\n",
        "    mid = (low + high) // 2\n",
        "\n",
        "    if arr1[mid] == target:\n",
        "        print(f\"Target {target} found at index {mid}\")\n",
        "        found = True\n",
        "        break\n",
        "    elif arr1[mid] < target:\n",
        "        low = mid + 1\n",
        "    else:\n",
        "        high = mid - 1\n",
        "\n",
        "if not found:\n",
        "    print(f\"Target {target} not found in the array.\")"
      ],
      "metadata": {
        "colab": {
          "base_uri": "https://localhost:8080/"
        },
        "id": "lFRtSv7SF-Bd",
        "outputId": "74a8521e-3f99-46a6-ec85-df546b1fb531"
      },
      "execution_count": 8,
      "outputs": [
        {
          "output_type": "stream",
          "name": "stdout",
          "text": [
            "Enter target value: 6\n",
            "Target 6 found at index 3\n"
          ]
        }
      ]
    },
    {
      "cell_type": "code",
      "source": [
        "# =find sum of cubes of all ints\n",
        "# from m-n\n",
        "m=int(input(\"\"))\n",
        "n=int(input(\"\"))\n",
        "sum=0\n",
        "for i in range(m,n+1):\n",
        "  sum=sum+(i**3)\n",
        "print(sum)\n"
      ],
      "metadata": {
        "colab": {
          "base_uri": "https://localhost:8080/"
        },
        "id": "8NBVIeqlF-Hb",
        "outputId": "896da7e8-19a8-477c-d550-2dfe05b09f40"
      },
      "execution_count": 13,
      "outputs": [
        {
          "output_type": "stream",
          "name": "stdout",
          "text": [
            "2\n",
            "4\n",
            "99\n"
          ]
        }
      ]
    },
    {
      "cell_type": "code",
      "source": [
        "#consider 2 ints m,n=>prodcut of all ints from m,n if >n return -1;\n",
        "m=int(input(\"\"))\n",
        "n=int(input(\"\"))\n",
        "prod=1\n",
        "if n<m:\n",
        "  print(-1)\n",
        "else:\n",
        "  for i in range(m,n+1):\n",
        "    prod=prod*i\n",
        "  print(prod)"
      ],
      "metadata": {
        "colab": {
          "base_uri": "https://localhost:8080/"
        },
        "id": "Gs8-qIzMF-KW",
        "outputId": "1846fe13-eb31-4340-ae7d-c6711d4ceaa8"
      },
      "execution_count": 14,
      "outputs": [
        {
          "output_type": "stream",
          "name": "stdout",
          "text": [
            "2\n",
            "4\n",
            "24\n"
          ]
        }
      ]
    },
    {
      "cell_type": "code",
      "source": [
        "# conisder 1 ints m,n ,find product of all even ints from m,n\n",
        "m=int(input(\"\"))\n",
        "n=int(input(\"\"))\n",
        "prod=1\n",
        "if n<m:\n",
        "  print(-1)\n",
        "else:\n",
        "  for i in range(m,n+1):\n",
        "    if i%2==0:\n",
        "      prod=prod*i\n",
        "  print(prod)"
      ],
      "metadata": {
        "colab": {
          "base_uri": "https://localhost:8080/"
        },
        "id": "tPnohuBfF-NH",
        "outputId": "087e7abf-eaa1-4c0e-f5c7-3b5e7acf68ae"
      },
      "execution_count": 18,
      "outputs": [
        {
          "output_type": "stream",
          "name": "stdout",
          "text": [
            "2\n",
            "4\n",
            "8\n"
          ]
        }
      ]
    },
    {
      "cell_type": "code",
      "source": [
        "# consider int m,n ,find prod of odd\n",
        "# conisder 1 ints m,n ,find product of all even ints from m,n\n",
        "m=int(input(\"\"))\n",
        "n=int(input(\"\"))\n",
        "prod=1\n",
        "if n<m:\n",
        "  print(-1)\n",
        "else:\n",
        "  for i in range(m,n+1):\n",
        "    if i%2!=0:\n",
        "      prod=prod*i\n",
        "  print(prod)"
      ],
      "metadata": {
        "colab": {
          "base_uri": "https://localhost:8080/"
        },
        "id": "_KM1OdjmF-Qe",
        "outputId": "14c527cf-a739-4de6-f7c4-94f77c76490f"
      },
      "execution_count": 19,
      "outputs": [
        {
          "output_type": "stream",
          "name": "stdout",
          "text": [
            "2\n",
            "4\n",
            "3\n"
          ]
        }
      ]
    },
    {
      "cell_type": "code",
      "source": [
        "# sum of all factorial nums from m-n\n",
        "m=int(input(\"\"))\n",
        "n=int(input(\"\"))\n",
        "sum=0\n",
        "for i in range(m,n+1):\n",
        "  fact=1\n",
        "  for j in range(1,i+1):\n",
        "    fact=fact*j\n",
        "  sum=sum+fact\n",
        "  print(fact)\n",
        "print(sum)"
      ],
      "metadata": {
        "id": "tQYcLXQiF-Tm"
      },
      "execution_count": null,
      "outputs": []
    },
    {
      "cell_type": "code",
      "source": [
        "prime=int(input(\"enter the number\"))\n",
        "for i in range(2,prime):\n",
        "  if prime%i==0:\n",
        "    print(\"not Prime number\")\n",
        "    break\n",
        "else:\n",
        "  print(\"Prime\")"
      ],
      "metadata": {
        "colab": {
          "base_uri": "https://localhost:8080/"
        },
        "id": "nj5tbCgbF-Wh",
        "outputId": "6257be5c-fae6-4200-efe3-990175871b90"
      },
      "execution_count": 25,
      "outputs": [
        {
          "output_type": "stream",
          "name": "stdout",
          "text": [
            "enter the number11\n",
            "Prime\n"
          ]
        }
      ]
    },
    {
      "cell_type": "code",
      "source": [],
      "metadata": {
        "id": "hjclHfHufTcu"
      },
      "execution_count": null,
      "outputs": []
    },
    {
      "cell_type": "code",
      "source": [],
      "metadata": {
        "id": "nbBP1_LvfTfv"
      },
      "execution_count": null,
      "outputs": []
    },
    {
      "cell_type": "code",
      "source": [],
      "metadata": {
        "id": "Zh7ZvxBjfTi-"
      },
      "execution_count": null,
      "outputs": []
    },
    {
      "cell_type": "code",
      "source": [],
      "metadata": {
        "id": "w9R-1nPyfTmA"
      },
      "execution_count": null,
      "outputs": []
    },
    {
      "cell_type": "code",
      "source": [],
      "metadata": {
        "id": "lOqRSkdBfTpJ"
      },
      "execution_count": null,
      "outputs": []
    },
    {
      "cell_type": "code",
      "source": [],
      "metadata": {
        "id": "txIeiW43fTsg"
      },
      "execution_count": null,
      "outputs": []
    },
    {
      "cell_type": "code",
      "source": [],
      "metadata": {
        "id": "46NQKTbwfTvJ"
      },
      "execution_count": null,
      "outputs": []
    },
    {
      "cell_type": "code",
      "source": [],
      "metadata": {
        "id": "GUGoSgLCF-ZW"
      },
      "execution_count": null,
      "outputs": []
    },
    {
      "cell_type": "code",
      "source": [],
      "metadata": {
        "id": "2ChJq6SmF-c_"
      },
      "execution_count": null,
      "outputs": []
    }
  ]
}