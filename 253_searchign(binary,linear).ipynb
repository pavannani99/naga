{
  "nbformat": 4,
  "nbformat_minor": 0,
  "metadata": {
    "colab": {
      "provenance": [],
      "authorship_tag": "ABX9TyNWOi6I2pKK8+BWyJi+WQ+G",
      "include_colab_link": true
    },
    "kernelspec": {
      "name": "python3",
      "display_name": "Python 3"
    },
    "language_info": {
      "name": "python"
    }
  },
  "cells": [
    {
      "cell_type": "markdown",
      "metadata": {
        "id": "view-in-github",
        "colab_type": "text"
      },
      "source": [
        "<a href=\"https://colab.research.google.com/github/pavannani99/naga/blob/main/253_searchign(binary%2Clinear).ipynb\" target=\"_parent\"><img src=\"https://colab.research.google.com/assets/colab-badge.svg\" alt=\"Open In Colab\"/></a>"
      ]
    },
    {
      "cell_type": "code",
      "source": [
        "#linear search\n",
        "arr1=[1,3,24,5,64,7,53,66,355,6,4334]\n",
        "target=int(input(\"\"))\n",
        "for i in range(len(arr1)):\n",
        "\n",
        "    if arr1[i]==target:\n",
        "        print(i)\n"
      ],
      "metadata": {
        "colab": {
          "base_uri": "https://localhost:8080/"
        },
        "id": "qYW90ke0Foy-",
        "outputId": "bcae808a-f935-475f-865d-495a461c2f36"
      },
      "execution_count": 6,
      "outputs": [
        {
          "output_type": "stream",
          "name": "stdout",
          "text": [
            "6\n",
            "9\n"
          ]
        }
      ]
    },
    {
      "cell_type": "code",
      "source": [
        "#binary search\n",
        "arr1=[1,3,24,5,64,7,53,66,355,6,4334]\n",
        "arr1.sort()\n",
        "target=int(input(\"Enter target value: \"))\n",
        "\n",
        "low = 0\n",
        "high = len(arr1) - 1\n",
        "found = False\n",
        "\n",
        "while low <= high:\n",
        "    mid = (low + high) // 2\n",
        "\n",
        "    if arr1[mid] == target:\n",
        "        print(f\"Target {target} found at index {mid}\")\n",
        "        found = True\n",
        "        break\n",
        "    elif arr1[mid] < target:\n",
        "        low = mid + 1\n",
        "    else:\n",
        "        high = mid - 1\n",
        "\n",
        "if not found:\n",
        "    print(f\"Target {target} not found in the array.\")"
      ],
      "metadata": {
        "colab": {
          "base_uri": "https://localhost:8080/"
        },
        "id": "lFRtSv7SF-Bd",
        "outputId": "74a8521e-3f99-46a6-ec85-df546b1fb531"
      },
      "execution_count": 8,
      "outputs": [
        {
          "output_type": "stream",
          "name": "stdout",
          "text": [
            "Enter target value: 6\n",
            "Target 6 found at index 3\n"
          ]
        }
      ]
    },
    {
      "cell_type": "code",
      "source": [],
      "metadata": {
        "id": "PbAHIluOF-Ej"
      },
      "execution_count": null,
      "outputs": []
    },
    {
      "cell_type": "code",
      "source": [],
      "metadata": {
        "id": "8NBVIeqlF-Hb"
      },
      "execution_count": null,
      "outputs": []
    },
    {
      "cell_type": "code",
      "source": [],
      "metadata": {
        "id": "Gs8-qIzMF-KW"
      },
      "execution_count": null,
      "outputs": []
    },
    {
      "cell_type": "code",
      "source": [],
      "metadata": {
        "id": "tPnohuBfF-NH"
      },
      "execution_count": null,
      "outputs": []
    },
    {
      "cell_type": "code",
      "source": [],
      "metadata": {
        "id": "_KM1OdjmF-Qe"
      },
      "execution_count": null,
      "outputs": []
    },
    {
      "cell_type": "code",
      "source": [],
      "metadata": {
        "id": "tQYcLXQiF-Tm"
      },
      "execution_count": null,
      "outputs": []
    },
    {
      "cell_type": "code",
      "source": [],
      "metadata": {
        "id": "nj5tbCgbF-Wh"
      },
      "execution_count": null,
      "outputs": []
    },
    {
      "cell_type": "code",
      "source": [],
      "metadata": {
        "id": "GUGoSgLCF-ZW"
      },
      "execution_count": null,
      "outputs": []
    },
    {
      "cell_type": "code",
      "source": [],
      "metadata": {
        "id": "2ChJq6SmF-c_"
      },
      "execution_count": null,
      "outputs": []
    }
  ]
}