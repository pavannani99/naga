{
  "nbformat": 4,
  "nbformat_minor": 0,
  "metadata": {
    "colab": {
      "provenance": [],
      "authorship_tag": "ABX9TyOpgp3xncU1LEJiya+qqYrn",
      "include_colab_link": true
    },
    "kernelspec": {
      "name": "python3",
      "display_name": "Python 3"
    },
    "language_info": {
      "name": "python"
    }
  },
  "cells": [
    {
      "cell_type": "markdown",
      "metadata": {
        "id": "view-in-github",
        "colab_type": "text"
      },
      "source": [
        "<a href=\"https://colab.research.google.com/github/pavannani99/naga/blob/main/S_Pavan_Kumar.ipynb\" target=\"_parent\"><img src=\"https://colab.research.google.com/assets/colab-badge.svg\" alt=\"Open In Colab\"/></a>"
      ]
    },
    {
      "cell_type": "code",
      "execution_count": 1,
      "metadata": {
        "colab": {
          "base_uri": "https://localhost:8080/"
        },
        "id": "NC_L3rkPyzCL",
        "outputId": "4229bd56-ee79-4629-c46c-4752c7da76c5"
      },
      "outputs": [
        {
          "output_type": "stream",
          "name": "stdout",
          "text": [
            "Pavan\n"
          ]
        }
      ],
      "source": [
        "print(\"Pavan\")"
      ]
    },
    {
      "cell_type": "code",
      "source": [
        "Name=input(\"ENter Name\")\n",
        "print(\"Your NAme is :\",Name)"
      ],
      "metadata": {
        "colab": {
          "base_uri": "https://localhost:8080/"
        },
        "id": "xrv_bUvzzKUi",
        "outputId": "6dbdf9c1-16d2-4940-bb1c-d92e70974103"
      },
      "execution_count": 2,
      "outputs": [
        {
          "output_type": "stream",
          "name": "stdout",
          "text": [
            "ENter NamePavan Kumar\n",
            "Your NAme is : Pavan Kumar\n"
          ]
        }
      ]
    },
    {
      "cell_type": "code",
      "source": [
        "num1=int(input(\"enter first number\"))\n",
        "\n",
        "num2=int(input(\"enter second number\"))\n",
        "print(\"num1:\",num1)\n",
        "print(\"num2:\",num2)"
      ],
      "metadata": {
        "colab": {
          "base_uri": "https://localhost:8080/"
        },
        "id": "a5A1KrQizKX6",
        "outputId": "18e8a6cc-274e-4aea-b7f4-7a931e456009"
      },
      "execution_count": 4,
      "outputs": [
        {
          "output_type": "stream",
          "name": "stdout",
          "text": [
            "enter first number12\n",
            "enter second number12\n",
            "num1: 12\n",
            "num2: 12\n"
          ]
        }
      ]
    },
    {
      "cell_type": "code",
      "source": [
        "num1=int(input(\"enter first number\"))\n",
        "\n",
        "num2=int(input(\"enter second number\"))\n",
        "hey=num1+num2\n",
        "print(hey)"
      ],
      "metadata": {
        "colab": {
          "base_uri": "https://localhost:8080/"
        },
        "id": "F2GNcZuuzKbM",
        "outputId": "35d986b8-1e0f-4779-9e4b-2d37b72dcd57"
      },
      "execution_count": 5,
      "outputs": [
        {
          "output_type": "stream",
          "name": "stdout",
          "text": [
            "enter first number2344\n",
            "enter second number24234233\n",
            "24236577\n"
          ]
        }
      ]
    },
    {
      "cell_type": "code",
      "source": [
        "num1=int(input(\"enter first number\"))\n",
        "\n",
        "num2=int(input(\"enter second number\"))\n",
        "num1=num1+num2\n",
        "num2=num1-num2\n",
        "num1=num1-num2\n",
        "print(num1,num2)"
      ],
      "metadata": {
        "colab": {
          "base_uri": "https://localhost:8080/"
        },
        "id": "JntB6EkdzKeD",
        "outputId": "3848186f-5573-41fc-ff3f-2a9f9cdcf4b7"
      },
      "execution_count": 6,
      "outputs": [
        {
          "output_type": "stream",
          "name": "stdout",
          "text": [
            "enter first number12\n",
            "enter second number12\n",
            "12 12\n"
          ]
        }
      ]
    },
    {
      "cell_type": "code",
      "source": [
        "a=10\n",
        "b=\"hello\"\n",
        "c=2.34\n",
        "print(type(a))\n",
        "print(type(b))\n",
        "print(type(c))"
      ],
      "metadata": {
        "colab": {
          "base_uri": "https://localhost:8080/"
        },
        "id": "DObea0GczKhK",
        "outputId": "a6c4e82f-843f-4c81-bcc6-0d872b576f13"
      },
      "execution_count": 8,
      "outputs": [
        {
          "output_type": "stream",
          "name": "stdout",
          "text": [
            "<class 'int'>\n",
            "<class 'str'>\n",
            "<class 'float'>\n"
          ]
        }
      ]
    },
    {
      "cell_type": "code",
      "source": [
        "x=(10,20,30,40,50)\n",
        "y=[10,20,30,40,50]\n",
        "z={\"one\":1,\"two\":2}\n",
        "print(type(x))\n",
        "print(type(y))\n",
        "print(type(z))"
      ],
      "metadata": {
        "colab": {
          "base_uri": "https://localhost:8080/"
        },
        "id": "LJK8RC2mzKka",
        "outputId": "c3cb93d5-e350-405a-aea5-87300fe18be3"
      },
      "execution_count": 9,
      "outputs": [
        {
          "output_type": "stream",
          "name": "stdout",
          "text": [
            "<class 'tuple'>\n",
            "<class 'list'>\n",
            "<class 'dict'>\n"
          ]
        }
      ]
    },
    {
      "cell_type": "code",
      "source": [
        "a=int(input(\"\"))\n",
        "b=a**2\n",
        "print(b)"
      ],
      "metadata": {
        "colab": {
          "base_uri": "https://localhost:8080/"
        },
        "id": "7ZUmaahlzKnj",
        "outputId": "423ee503-bfb7-41b3-e42e-2c0fde5a7f71"
      },
      "execution_count": 10,
      "outputs": [
        {
          "output_type": "stream",
          "name": "stdout",
          "text": [
            "22\n",
            "484\n"
          ]
        }
      ]
    },
    {
      "cell_type": "code",
      "source": [
        "a=int(input(\"\"))\n",
        "b=int(input(\"\"))\n",
        "c=int(input(\"\"))\n",
        "d=(a+b+c)/3\n",
        "print(d)"
      ],
      "metadata": {
        "colab": {
          "base_uri": "https://localhost:8080/"
        },
        "id": "lKypUW6VzKqq",
        "outputId": "36908239-86ad-4e99-d8ed-bfac395cafa2"
      },
      "execution_count": 11,
      "outputs": [
        {
          "output_type": "stream",
          "name": "stdout",
          "text": [
            "1\n",
            "2\n",
            "3\n",
            "2.0\n"
          ]
        }
      ]
    },
    {
      "cell_type": "code",
      "source": [
        "num1=int(input(\"\"))\n",
        "num1=num1*60\n",
        "print(num1)"
      ],
      "metadata": {
        "colab": {
          "base_uri": "https://localhost:8080/"
        },
        "id": "6mn913edzKty",
        "outputId": "20da65c4-63a0-4656-9ed9-fcb2edbb7486"
      },
      "execution_count": 12,
      "outputs": [
        {
          "output_type": "stream",
          "name": "stdout",
          "text": [
            "2\n",
            "120\n"
          ]
        }
      ]
    },
    {
      "cell_type": "code",
      "source": [
        "num1=float(input(\"\"))\n",
        "num2=float(input(\"\"))\n",
        "num3=float(input(\"\"))\n",
        "num4=num1*num2*num3\n",
        "print(num4)"
      ],
      "metadata": {
        "colab": {
          "base_uri": "https://localhost:8080/"
        },
        "id": "7ZAcF6e7zKwy",
        "outputId": "09dff1a8-f7f9-4a15-e4a3-f2d54826ae00"
      },
      "execution_count": 13,
      "outputs": [
        {
          "output_type": "stream",
          "name": "stdout",
          "text": [
            "12\n",
            "12\n",
            "12\n",
            "1728.0\n"
          ]
        }
      ]
    },
    {
      "cell_type": "code",
      "source": [
        "num1=int(input(\"\"))\n",
        "num2=int(input(\"\"))\n",
        "num3=int(input(\"\"))\n",
        "largest=max(num1,num2,num3)\n",
        "print(largest)"
      ],
      "metadata": {
        "colab": {
          "base_uri": "https://localhost:8080/"
        },
        "id": "78RuNO3VzK3E",
        "outputId": "4d96995e-742d-4b36-f35c-bcd794c93b3c"
      },
      "execution_count": 18,
      "outputs": [
        {
          "output_type": "stream",
          "name": "stdout",
          "text": [
            "1\n",
            "2\n",
            "2\n",
            "2\n"
          ]
        }
      ]
    },
    {
      "cell_type": "code",
      "source": [
        "n=100\n",
        "for i in range(1,n+1):\n",
        "  if(i%2==0):\n",
        "    print(i)"
      ],
      "metadata": {
        "colab": {
          "base_uri": "https://localhost:8080/"
        },
        "id": "Ek12V8NRzK6S",
        "outputId": "6e54ef25-f00f-40bd-8d69-cf9a392cee1b"
      },
      "execution_count": 21,
      "outputs": [
        {
          "output_type": "stream",
          "name": "stdout",
          "text": [
            "2\n",
            "4\n",
            "6\n",
            "8\n",
            "10\n",
            "12\n",
            "14\n",
            "16\n",
            "18\n",
            "20\n",
            "22\n",
            "24\n",
            "26\n",
            "28\n",
            "30\n",
            "32\n",
            "34\n",
            "36\n",
            "38\n",
            "40\n",
            "42\n",
            "44\n",
            "46\n",
            "48\n",
            "50\n",
            "52\n",
            "54\n",
            "56\n",
            "58\n",
            "60\n",
            "62\n",
            "64\n",
            "66\n",
            "68\n",
            "70\n",
            "72\n",
            "74\n",
            "76\n",
            "78\n",
            "80\n",
            "82\n",
            "84\n",
            "86\n",
            "88\n",
            "90\n",
            "92\n",
            "94\n",
            "96\n",
            "98\n",
            "100\n"
          ]
        }
      ]
    },
    {
      "cell_type": "code",
      "source": [
        "\n",
        "n=100\n",
        "for i in range(0,n):\n",
        "  if(i%2!=0):\n",
        "    print(i)"
      ],
      "metadata": {
        "colab": {
          "base_uri": "https://localhost:8080/"
        },
        "id": "C0yxDZao3l7I",
        "outputId": "64c31a8b-88dd-49d6-b893-72339a4b005b"
      },
      "execution_count": 22,
      "outputs": [
        {
          "output_type": "stream",
          "name": "stdout",
          "text": [
            "1\n",
            "3\n",
            "5\n",
            "7\n",
            "9\n",
            "11\n",
            "13\n",
            "15\n",
            "17\n",
            "19\n",
            "21\n",
            "23\n",
            "25\n",
            "27\n",
            "29\n",
            "31\n",
            "33\n",
            "35\n",
            "37\n",
            "39\n",
            "41\n",
            "43\n",
            "45\n",
            "47\n",
            "49\n",
            "51\n",
            "53\n",
            "55\n",
            "57\n",
            "59\n",
            "61\n",
            "63\n",
            "65\n",
            "67\n",
            "69\n",
            "71\n",
            "73\n",
            "75\n",
            "77\n",
            "79\n",
            "81\n",
            "83\n",
            "85\n",
            "87\n",
            "89\n",
            "91\n",
            "93\n",
            "95\n",
            "97\n",
            "99\n"
          ]
        }
      ]
    },
    {
      "cell_type": "code",
      "source": [
        "Pan=bool(input(\"\"))\n",
        "aadhar=bool(input(\"\"))\n",
        "cibil_score=int(input(\"\"))\n",
        "if(Pan and aadhar and cibil_score>750):\n",
        "  print(\"loan approved\")\n",
        "else:\n",
        "  print(\"loan rejected\")"
      ],
      "metadata": {
        "colab": {
          "base_uri": "https://localhost:8080/"
        },
        "id": "9vDl86nx3l-w",
        "outputId": "c32b3140-6301-4303-d729-2ed505671b7a"
      },
      "execution_count": 47,
      "outputs": [
        {
          "output_type": "stream",
          "name": "stdout",
          "text": [
            "True\n",
            "True\n",
            "800\n",
            "loan rejected\n"
          ]
        }
      ]
    },
    {
      "cell_type": "code",
      "source": [
        "a=10\n",
        "b=20\n",
        "c=a+b\n",
        "d=a-b\n",
        "e=a*b\n",
        "f=a/b\n",
        "print(c,d,e,f)"
      ],
      "metadata": {
        "colab": {
          "base_uri": "https://localhost:8080/"
        },
        "id": "C8ktBW3C3mFA",
        "outputId": "c156cd9a-39b9-4d04-91ff-10d76c14dc6b"
      },
      "execution_count": 28,
      "outputs": [
        {
          "output_type": "stream",
          "name": "stdout",
          "text": [
            "30 -10 200 0.5\n"
          ]
        }
      ]
    },
    {
      "cell_type": "code",
      "source": [
        "a=int(input(\"\"))\n",
        "b=int(input(\"\"))\n",
        "if(a>b or a==b and b>20):\n",
        "  print(\"true\")\n",
        "else:\n",
        "  print(\"false\")"
      ],
      "metadata": {
        "colab": {
          "base_uri": "https://localhost:8080/"
        },
        "id": "mTS45z833mIA",
        "outputId": "ae673298-7dce-42a9-9e5a-36c97981d3f7"
      },
      "execution_count": 30,
      "outputs": [
        {
          "output_type": "stream",
          "name": "stdout",
          "text": [
            "25\n",
            "21\n",
            "true\n"
          ]
        }
      ]
    },
    {
      "cell_type": "code",
      "source": [
        "num1=int(input(\"\"))\n",
        "if(num1>0):\n",
        "  print(\"postitive\")\n",
        "elif(num1<0):\n",
        "  print(\"negative\")\n",
        "elif(num1==0):\n",
        "  print(\"zero\")\n",
        "else:\n",
        "  print(\"error\")"
      ],
      "metadata": {
        "colab": {
          "base_uri": "https://localhost:8080/"
        },
        "id": "L7_l-SpI3mLQ",
        "outputId": "290a4094-80a3-4d33-d83c-1964cace5024"
      },
      "execution_count": 31,
      "outputs": [
        {
          "output_type": "stream",
          "name": "stdout",
          "text": [
            "0\n",
            "zero\n"
          ]
        }
      ]
    },
    {
      "cell_type": "code",
      "source": [
        "num1=int(input(\"\"))\n",
        "if(num1%5==0 and num1%11==0):\n",
        "  print(\"yes\")\n",
        "else:\n",
        "  print(\"no\")"
      ],
      "metadata": {
        "colab": {
          "base_uri": "https://localhost:8080/"
        },
        "id": "wliw4j5q3mOY",
        "outputId": "30bb1bcf-907d-45a9-953c-64f1ef420a7b"
      },
      "execution_count": 33,
      "outputs": [
        {
          "output_type": "stream",
          "name": "stdout",
          "text": [
            "55\n",
            "yes\n"
          ]
        }
      ]
    },
    {
      "cell_type": "code",
      "source": [
        "theory=int(input(\"\"))\n",
        "practical=int(input(\"\"))\n",
        "total=theory+practical\n",
        "if(theory>=30 and practical>=20 and total>3=50):\n",
        "  print(\"pass\",total)\n",
        "else:\n",
        "  print(\"fail:\",total)"
      ],
      "metadata": {
        "colab": {
          "base_uri": "https://localhost:8080/"
        },
        "id": "iZSsWeVU9eWO",
        "outputId": "599d5589-a1ae-4f1f-b309-ed7e29fdd426"
      },
      "execution_count": 36,
      "outputs": [
        {
          "output_type": "stream",
          "name": "stdout",
          "text": [
            "30\n",
            "30\n",
            "pass 60\n"
          ]
        }
      ]
    },
    {
      "cell_type": "code",
      "source": [
        "age=int(input(\"\"))\n",
        "if(age>13):\n",
        "  print(\"child\")\n",
        "elif(age>=13 and age<=19):\n",
        "  print(\"Teenage\")\n",
        "elif(age>19):\n",
        "  print(\"old\")\n",
        "else:\n",
        "  print(\"enter a valid age\")"
      ],
      "metadata": {
        "colab": {
          "base_uri": "https://localhost:8080/"
        },
        "id": "g5tc7Uc19eZN",
        "outputId": "4ae17386-6e7a-4d93-fe2e-c91b4d5e04db"
      },
      "execution_count": 37,
      "outputs": [
        {
          "output_type": "stream",
          "name": "stdout",
          "text": [
            "20\n",
            "child\n"
          ]
        }
      ]
    },
    {
      "cell_type": "code",
      "source": [
        "marks=int(input(\"\"))\n",
        "if(marks>=90 and marks<=100):\n",
        "  print(\"A\")\n",
        "elif(marks>=80 and marks<=89):\n",
        "  print(\"B\")\n",
        "elif(marks>=70 and marks<=79):\n",
        "  print(\"C\")\n",
        "elif(marks>=60 and marks<=69):\n",
        "  print(\"D\")\n",
        "elif(marks>=50 and marks<=59):\n",
        "  print(\"E\")\n",
        "elif(marks>=0 and marks<=49):\n",
        "  print(\"Fail\")"
      ],
      "metadata": {
        "colab": {
          "base_uri": "https://localhost:8080/"
        },
        "id": "wJwnoVUM9eb-",
        "outputId": "be23cd94-b9a7-4c49-b29b-9359fc08a2b6"
      },
      "execution_count": 38,
      "outputs": [
        {
          "output_type": "stream",
          "name": "stdout",
          "text": [
            "79\n",
            "C\n"
          ]
        }
      ]
    },
    {
      "cell_type": "code",
      "source": [
        "User=input(\"\")\n",
        "Pass=int(input(\"\"))\n",
        "user_name=\"Pavan\"\n",
        "user_pass=1234\n",
        "if(User==user_name):\n",
        "  print(\"access approved\")\n",
        "  if(Pass==user_pass):\n",
        "    print(\"access approved\")\n",
        "  else:\n",
        "    print(\"access denied\")\n",
        "\n",
        "else:\n",
        "  print(\"access denied\")\n",
        "\n"
      ],
      "metadata": {
        "colab": {
          "base_uri": "https://localhost:8080/"
        },
        "id": "9QCybhEC9efH",
        "outputId": "8ce806ed-7230-46c9-85c3-03b3d829f039"
      },
      "execution_count": 54,
      "outputs": [
        {
          "output_type": "stream",
          "name": "stdout",
          "text": [
            "Pavan\n",
            "1234\n",
            "access approved\n",
            "access approved\n"
          ]
        }
      ]
    },
    {
      "cell_type": "code",
      "source": [
        "num1=int(input(\"\"))\n",
        "num2=int(input(\"\"))\n",
        "operator=input(\"type only oper:\")\n",
        "if(operator==\"+\"):\n",
        "  print(num1+num2)\n",
        "elif(operator==\"-\"):\n",
        "  print(num1-num2)\n",
        "elif(operator==\"*\"):\n",
        "  print(num1*num2)\n",
        "elif(operator==\"/\"):\n",
        "  print(a/b)"
      ],
      "metadata": {
        "colab": {
          "base_uri": "https://localhost:8080/"
        },
        "id": "coWIYNR39eh2",
        "outputId": "983df2f5-f7f4-44bb-941b-14777d562101"
      },
      "execution_count": 55,
      "outputs": [
        {
          "output_type": "stream",
          "name": "stdout",
          "text": [
            "2\n",
            "3\n",
            "type only oper+\n",
            "5\n"
          ]
        }
      ]
    },
    {
      "cell_type": "code",
      "source": [
        "temp=int(input(\"\"))\n",
        "if(temp>=96):\n",
        "  print(\"normal\")\n",
        "elif(temp>96 and temp<98):\n",
        "  print(\"cold\")\n",
        "elif(temp>=99 and temp<=105):\n",
        "  print(\"fever\")\n",
        "elif(temp>105 and 110):\n",
        "  print(\"high fever\")\n",
        "else:\n",
        "  print(\"error\")"
      ],
      "metadata": {
        "id": "JhbqtU10zK-S"
      },
      "execution_count": null,
      "outputs": []
    }
  ]
}