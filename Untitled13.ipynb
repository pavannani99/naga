{
  "nbformat": 4,
  "nbformat_minor": 0,
  "metadata": {
    "colab": {
      "provenance": [],
      "authorship_tag": "ABX9TyN6najSF8iJs4AoNmq0bpEC",
      "include_colab_link": true
    },
    "kernelspec": {
      "name": "python3",
      "display_name": "Python 3"
    },
    "language_info": {
      "name": "python"
    }
  },
  "cells": [
    {
      "cell_type": "markdown",
      "metadata": {
        "id": "view-in-github",
        "colab_type": "text"
      },
      "source": [
        "<a href=\"https://colab.research.google.com/github/pavannani99/naga/blob/main/Untitled13.ipynb\" target=\"_parent\"><img src=\"https://colab.research.google.com/assets/colab-badge.svg\" alt=\"Open In Colab\"/></a>"
      ]
    },
    {
      "cell_type": "code",
      "execution_count": null,
      "metadata": {
        "colab": {
          "base_uri": "https://localhost:8080/"
        },
        "outputId": "19f7bcbd-5e5f-40ec-ec7b-51f7e7694e9a",
        "id": "Hl6QxmHFer0j"
      },
      "outputs": [
        {
          "output_type": "stream",
          "name": "stdout",
          "text": [
            "WELCOME to ABC Restaurent\n",
            "\n",
            "--- Restaurant Menu ---\n",
            "1) Order Items\n",
            "2) Print Ordered Items\n",
            "3) Calculate Bill\n",
            "4) Exit\n",
            "Enter your choice: 1\n",
            "\n",
            "Menu:\n",
            "Tiffen Meals: $100\n",
            "lunch Meals: $150\n",
            "juice items: $50\n",
            "Snacks: $10\n",
            "Enter the item you want to order (or 'exit' to finish): Tiffen Meals\n",
            "Enter the quantity for Tiffen Meals: 7875455454\n",
            "Added 7875455454 of Tiffen Meals to your order.\n",
            "Enter the item you want to order (or 'exit' to finish): exit\n",
            "\n",
            "--- Restaurant Menu ---\n",
            "1) Order Items\n",
            "2) Print Ordered Items\n",
            "3) Calculate Bill\n",
            "4) Exit\n",
            "Enter your choice: 3\n",
            "\n",
            "Total Bill is $787545545400.00\n",
            "\n",
            "--- Restaurant Menu ---\n",
            "1) Order Items\n",
            "2) Print Ordered Items\n",
            "3) Calculate Bill\n",
            "4) Exit\n",
            "Enter your choice: 4\n",
            "Thank you for visiting!\n"
          ]
        }
      ],
      "source": [
        "print(\"WELCOME to ABC Restaurent\")\n",
        "Menu={\"Tiffen Meals\":100,\"lunch Meals\":150,\"juice items\":50,\"Snacks\":10}\n",
        "ordered={}\n",
        "def order_items():\n",
        "  print(\"\\nMenu:\")\n",
        "  for item, price in Menu.items():\n",
        "    print(f\"{item}: ${price}\")\n",
        "\n",
        "  while True:\n",
        "    item = input(\"Enter the item you want to order (or 'exit' to finish): \").strip()\n",
        "    if item.lower() == \"exit\":\n",
        "      break\n",
        "    if item in Menu:\n",
        "      try:\n",
        "        quantity = int(input(f\"Enter the quantity for {item}: \"))\n",
        "        if quantity > 0:\n",
        "          ordered[item] = ordered.get(item, 0) + quantity\n",
        "          print(f\"Added {quantity} of {item} to your order.\")\n",
        "        else:\n",
        "          print(\"Quantity must be a positive number.\")\n",
        "      except ValueError:\n",
        "        print(\"Invalid quantity. Please enter a number.\")\n",
        "    else:\n",
        "      print(\"Invalid item. Please choose from the menu.\")\n",
        "\n",
        "\n",
        "def print_items():\n",
        "  if not ordered:\n",
        "    print(\"\\nNo items ordered yet.\")\n",
        "    return\n",
        "  print(\"\\nOrdered Items:\")\n",
        "  for item, quantity in ordered.items():\n",
        "    print(f\"{item}: {quantity}\")\n",
        "\n",
        "def calculate_bill():\n",
        "  if not ordered:\n",
        "    print(\"\\nNo items ordered to calculate bill.\")\n",
        "    return\n",
        "  total=sum(Menu[item]*quantity for item,quantity in ordered.items())\n",
        "  print(f\"\\nTotal Bill is ${total:.2f}\")\n",
        "\n",
        "while True:\n",
        "  print(\"\\n--- Restaurant Menu ---\")\n",
        "  print(\"1) Order Items\")\n",
        "  print(\"2) Print Ordered Items\")\n",
        "  print(\"3) Calculate Bill\")\n",
        "  print(\"4) Exit\")\n",
        "  choice=input(\"Enter your choice: \").strip()\n",
        "\n",
        "  if choice == '1':\n",
        "    order_items()\n",
        "  elif choice == '2':\n",
        "    print_items()\n",
        "  elif choice == '3':\n",
        "    calculate_bill()\n",
        "  elif choice == '4':\n",
        "    print(\"Thank you for visiting!\")\n",
        "    break\n",
        "  else:\n",
        "    print(\"Invalid choice. Please enter a number between 1 and 4.\")"
      ]
    }
  ]
}